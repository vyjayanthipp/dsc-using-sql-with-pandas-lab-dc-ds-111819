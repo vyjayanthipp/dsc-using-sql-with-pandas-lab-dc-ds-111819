{
 "cells": [
  {
   "cell_type": "code",
   "execution_count": 1,
   "metadata": {},
   "outputs": [
    {
     "name": "stdout",
     "output_type": "stream",
     "text": [
      "Requirement already satisfied: pandasql in /Users/vyju/opt/anaconda3/lib/python3.7/site-packages (0.7.3)\r\n",
      "Requirement already satisfied: numpy in /Users/vyju/opt/anaconda3/lib/python3.7/site-packages (from pandasql) (1.17.2)\r\n",
      "Requirement already satisfied: sqlalchemy in /Users/vyju/opt/anaconda3/lib/python3.7/site-packages (from pandasql) (1.3.9)\r\n",
      "Requirement already satisfied: pandas in /Users/vyju/opt/anaconda3/lib/python3.7/site-packages (from pandasql) (0.25.1)\r\n",
      "Requirement already satisfied: python-dateutil>=2.6.1 in /Users/vyju/opt/anaconda3/lib/python3.7/site-packages (from pandas->pandasql) (2.8.0)\r\n",
      "Requirement already satisfied: pytz>=2017.2 in /Users/vyju/opt/anaconda3/lib/python3.7/site-packages (from pandas->pandasql) (2019.3)\r\n",
      "Requirement already satisfied: six>=1.5 in /Users/vyju/opt/anaconda3/lib/python3.7/site-packages (from python-dateutil>=2.6.1->pandas->pandasql) (1.12.0)\r\n"
     ]
    }
   ],
   "source": [
    "!pip install pandasql"
   ]
  },
  {
   "cell_type": "code",
   "execution_count": null,
   "metadata": {},
   "outputs": [],
   "source": [
    "from pandasql"
   ]
  }
 ],
 "metadata": {
  "kernelspec": {
   "display_name": "Python 3",
   "language": "python",
   "name": "python3"
  },
  "language_info": {
   "codemirror_mode": {
    "name": "ipython",
    "version": 3
   },
   "file_extension": ".py",
   "mimetype": "text/x-python",
   "name": "python",
   "nbconvert_exporter": "python",
   "pygments_lexer": "ipython3",
   "version": "3.7.4"
  }
 },
 "nbformat": 4,
 "nbformat_minor": 2
}
